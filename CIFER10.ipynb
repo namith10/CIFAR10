{
  "cells": [
    {
      "cell_type": "code",
      "execution_count": 1,
      "metadata": {
        "id": "On10z_IWrRPf"
      },
      "outputs": [],
      "source": [
        "\n",
        "import tensorflow as tf\n",
        "from tensorflow.keras import datasets,layers,models\n",
        "import matplotlib.pyplot as plt\n",
        "import numpy as np"
      ]
    },
    {
      "cell_type": "code",
      "execution_count": 2,
      "metadata": {
        "colab": {
          "base_uri": "https://localhost:8080/"
        },
        "id": "Hq-0HMDPrl2d",
        "outputId": "f43c7386-1443-4b39-809a-5d7b64dafc50"
      },
      "outputs": [
        {
          "output_type": "stream",
          "name": "stdout",
          "text": [
            "Downloading data from https://www.cs.toronto.edu/~kriz/cifar-10-python.tar.gz\n",
            "170498071/170498071 [==============================] - 2s 0us/step\n"
          ]
        },
        {
          "output_type": "execute_result",
          "data": {
            "text/plain": [
              "(50000, 32, 32, 3)"
            ]
          },
          "metadata": {},
          "execution_count": 2
        }
      ],
      "source": [
        "(X_train,y_train),(X_test,y_test)=datasets.cifar10.load_data()\n",
        "X_train.shape"
      ]
    },
    {
      "cell_type": "code",
      "execution_count": 3,
      "metadata": {
        "colab": {
          "base_uri": "https://localhost:8080/"
        },
        "id": "85sul0Hrsrzj",
        "outputId": "7e66c5b6-264d-404a-e4c6-e413ba7628eb"
      },
      "outputs": [
        {
          "output_type": "execute_result",
          "data": {
            "text/plain": [
              "array([6, 9, 9, 4, 1], dtype=uint8)"
            ]
          },
          "metadata": {},
          "execution_count": 3
        }
      ],
      "source": [
        "y_train=y_train.reshape(-1)\n",
        "y_train[:5]"
      ]
    },
    {
      "cell_type": "code",
      "execution_count": 4,
      "metadata": {
        "id": "Ut_oscqhr8Bd"
      },
      "outputs": [],
      "source": [
        "def plot_sample(X,y,index):\n",
        "  plt.figure(figsize=(15,2))\n",
        "  plt.imshow(X[index])\n",
        "  plt.xlabel(classes[y[index]])"
      ]
    },
    {
      "cell_type": "code",
      "execution_count": 5,
      "metadata": {
        "id": "JBVBlj_ouECD"
      },
      "outputs": [],
      "source": [
        "classes=['airplane','automobile','bird','cat','deer','dog','frog','horse','ship','truck.']"
      ]
    },
    {
      "cell_type": "code",
      "execution_count": 6,
      "metadata": {
        "colab": {
          "base_uri": "https://localhost:8080/",
          "height": 237
        },
        "id": "_JnXdOPHt8ln",
        "outputId": "6d14a16b-8fa7-494e-9af8-d107c40bd40a"
      },
      "outputs": [
        {
          "output_type": "display_data",
          "data": {
            "text/plain": [
              "<Figure size 1500x200 with 1 Axes>"
            ],
            "image/png": "[encoded data removed]"
          },
          "metadata": {}
        }
      ],
      "source": [
        "plot_sample(X_train,y_train,0)"
      ]
    },
    {
      "cell_type": "code",
      "execution_count": 7,
      "metadata": {
        "id": "olhZqhjEuiRf"
      },
      "outputs": [],
      "source": [
        "X_train=X_train/255\n",
        "X_test=X_test/255"
      ]
    },
    {
      "cell_type": "code",
      "execution_count": 8,
      "metadata": {
        "id": "UkP_j7ZXxRiq"
      },
      "outputs": [],
      "source": [
        "cnn=models.Sequential([\n",
        "    #cnn\n",
        "    layers.Conv2D(filters=32, kernel_size=(3,3),activation='relu',input_shape=(32,32,3)),\n",
        "    layers.MaxPooling2D((2,2)),\n",
        "\n",
        "    layers.Conv2D(filters=64,kernel_size=(3,3),activation='relu'),\n",
        "    layers.MaxPooling2D((2,2)),\n",
        "\n",
        "    #dense\n",
        "    layers.Flatten(),\n",
        "    layers.Dense(64, activation='relu'),\n",
        "    layers.Dense(10, activation='softmax')\n",
        "])"
      ]
    },
    {
      "cell_type": "code",
      "execution_count": 8,
      "metadata": {
        "id": "sy1QkrAWh7oG"
      },
      "outputs": [],
      "source": []
    },
    {
      "cell_type": "code",
      "execution_count": 9,
      "metadata": {
        "id": "_W68sg_f0Y7p"
      },
      "outputs": [],
      "source": [
        "cnn.compile(optimizer='adam',loss='sparse_categorical_crossentropy',metrics=['accuracy'])\n",
        "\n"
      ]
    },
    {
      "cell_type": "code",
      "execution_count": 10,
      "metadata": {
        "colab": {
          "base_uri": "https://localhost:8080/"
        },
        "id": "LMSftBy503YA",
        "outputId": "5f8da82e-43ae-43d6-a3c3-8f5c66b0a6a2"
      },
      "outputs": [
        {
          "output_type": "stream",
          "name": "stdout",
          "text": [
            "Epoch 1/20\n",
            "1563/1563 [==============================] - 77s 48ms/step - loss: 1.4383 - accuracy: 0.4860\n",
            "Epoch 2/20\n",
            "1563/1563 [==============================] - 62s 40ms/step - loss: 1.0863 - accuracy: 0.6205\n",
            "Epoch 3/20\n",
            "1563/1563 [==============================] - 60s 39ms/step - loss: 0.9560 - accuracy: 0.6665\n",
            "Epoch 4/20\n",
            "1563/1563 [==============================] - 62s 39ms/step - loss: 0.8694 - accuracy: 0.6982\n",
            "Epoch 5/20\n",
            "1563/1563 [==============================] - 63s 40ms/step - loss: 0.8015 - accuracy: 0.7242\n",
            "Epoch 6/20\n",
            "1563/1563 [==============================] - 61s 39ms/step - loss: 0.7446 - accuracy: 0.7427\n",
            "Epoch 7/20\n",
            "1563/1563 [==============================] - 62s 39ms/step - loss: 0.6961 - accuracy: 0.7586\n",
            "Epoch 8/20\n",
            "1563/1563 [==============================] - 60s 38ms/step - loss: 0.6544 - accuracy: 0.7720\n",
            "Epoch 9/20\n",
            "1563/1563 [==============================] - 65s 41ms/step - loss: 0.6176 - accuracy: 0.7842\n",
            "Epoch 10/20\n",
            "1563/1563 [==============================] - 62s 39ms/step - loss: 0.5768 - accuracy: 0.7963\n",
            "Epoch 11/20\n",
            "1563/1563 [==============================] - 61s 39ms/step - loss: 0.5489 - accuracy: 0.8074\n",
            "Epoch 12/20\n",
            "1563/1563 [==============================] - 60s 39ms/step - loss: 0.5130 - accuracy: 0.8206\n",
            "Epoch 13/20\n",
            "1563/1563 [==============================] - 61s 39ms/step - loss: 0.4870 - accuracy: 0.8284\n",
            "Epoch 14/20\n",
            "1563/1563 [==============================] - 61s 39ms/step - loss: 0.4572 - accuracy: 0.8383\n",
            "Epoch 15/20\n",
            "1563/1563 [==============================] - 62s 39ms/step - loss: 0.4313 - accuracy: 0.8480\n",
            "Epoch 16/20\n",
            "1563/1563 [==============================] - 61s 39ms/step - loss: 0.4057 - accuracy: 0.8561\n",
            "Epoch 17/20\n",
            "1563/1563 [==============================] - 60s 38ms/step - loss: 0.3764 - accuracy: 0.8663\n",
            "Epoch 18/20\n",
            "1563/1563 [==============================] - 61s 39ms/step - loss: 0.3552 - accuracy: 0.8731\n",
            "Epoch 19/20\n",
            "1563/1563 [==============================] - 60s 38ms/step - loss: 0.3351 - accuracy: 0.8790\n",
            "Epoch 20/20\n",
            "1563/1563 [==============================] - 63s 40ms/step - loss: 0.3177 - accuracy: 0.8865\n"
          ]
        },
        {
          "output_type": "execute_result",
          "data": {
            "text/plain": [
              "<keras.src.callbacks.History at 0x78d539321b10>"
            ]
          },
          "metadata": {},
          "execution_count": 10
        }
      ],
      "source": [
        "cnn.fit(X_train,y_train,epochs=20)"
      ]
    },
    {
      "cell_type": "code",
      "execution_count": 11,
      "metadata": {
        "colab": {
          "base_uri": "https://localhost:8080/"
        },
        "id": "2gDE2JaL4dgI",
        "outputId": "bd13c9ba-2df1-47b3-f133-281d77d07397"
      },
      "outputs": [
        {
          "output_type": "stream",
          "name": "stdout",
          "text": [
            "313/313 [==============================] - 5s 16ms/step - loss: 1.2880 - accuracy: 0.6885\n"
          ]
        },
        {
          "output_type": "execute_result",
          "data": {
            "text/plain": [
              "[1.2880357503890991, 0.6884999871253967]"
            ]
          },
          "metadata": {},
          "execution_count": 11
        }
      ],
      "source": [
        "cnn.evaluate(X_test,y_test)"
      ]
    },
    {
      "cell_type": "code",
      "execution_count": 12,
      "metadata": {
        "colab": {
          "base_uri": "https://localhost:8080/"
        },
        "id": "3eMtXcWP4_lN",
        "outputId": "b0936978-da04-4fe1-ac47-ff42a688cea4"
      },
      "outputs": [
        {
          "output_type": "stream",
          "name": "stdout",
          "text": [
            "313/313 [==============================] - 5s 14ms/step\n"
          ]
        },
        {
          "output_type": "execute_result",
          "data": {
            "text/plain": [
              "array([[7.2525028e-04, 6.1897190e-05, 1.0017405e-05, 9.8369598e-01,\n",
              "        3.5226847e-05, 5.6720302e-03, 1.4144250e-03, 3.2335361e-06,\n",
              "        8.3792210e-03, 2.5610082e-06],\n",
              "       [1.6359298e-05, 6.2571984e-05, 9.1714561e-12, 4.6191896e-12,\n",
              "        3.5888474e-16, 2.6914522e-16, 5.4033438e-13, 1.1908750e-18,\n",
              "        9.9953431e-01, 3.8673187e-04],\n",
              "       [9.8963839e-04, 3.5494365e-02, 7.6725679e-05, 1.5401545e-04,\n",
              "        7.1767414e-07, 9.9760846e-06, 6.4859186e-08, 1.9684609e-09,\n",
              "        9.6320778e-01, 6.6657754e-05],\n",
              "       [9.8934102e-01, 7.0509099e-04, 1.4455307e-03, 5.1892486e-05,\n",
              "        1.7331933e-05, 3.7508784e-08, 1.6758650e-05, 1.5706941e-05,\n",
              "        8.4004486e-03, 6.0541220e-06],\n",
              "       [6.6533279e-11, 7.6373595e-07, 1.7156763e-04, 2.8261510e-03,\n",
              "        2.0053985e-03, 8.2206163e-05, 9.9491292e-01, 7.7438445e-11,\n",
              "        9.9245165e-07, 4.1267079e-09]], dtype=float32)"
            ]
          },
          "metadata": {},
          "execution_count": 12
        }
      ],
      "source": [
        "y_pred=cnn.predict(X_test)\n",
        "y_pred[:5]"
      ]
    },
    {
      "cell_type": "code",
      "execution_count": 13,
      "metadata": {
        "colab": {
          "base_uri": "https://localhost:8080/"
        },
        "id": "HDO111hw5KD2",
        "outputId": "781abd7a-076f-4d65-922c-c27a5a80a3d6"
      },
      "outputs": [
        {
          "output_type": "execute_result",
          "data": {
            "text/plain": [
              "array([7.2525028e-04, 6.1897190e-05, 1.0017405e-05, ..., 9.9991578e-01,\n",
              "       3.3992936e-15, 1.6920055e-12], dtype=float32)"
            ]
          },
          "metadata": {},
          "execution_count": 13
        }
      ],
      "source": [
        "y_pred=y_pred.reshape(-1)\n",
        "y_pred"
      ]
    },
    {
      "cell_type": "code",
      "execution_count": 16,
      "metadata": {
        "colab": {
          "base_uri": "https://localhost:8080/",
          "height": 36
        },
        "id": "XWtLQNBf5bPo",
        "outputId": "dcbf1157-1c02-48fe-909f-fe205fe89397"
      },
      "outputs": [
        {
          "output_type": "execute_result",
          "data": {
            "text/plain": [
              "'airplane'"
            ],
            "application/vnd.google.colaboratory.intrinsic+json": {
              "type": "string"
            }
          },
          "metadata": {},
          "execution_count": 16
        }
      ],
      "source": [
        "classes[np.argmax(y_pred[0])]"
      ]
    }
  ],
  "metadata": {
    "colab": {
      "provenance": []
    },
    "kernelspec": {
      "display_name": "Python 3",
      "name": "python3"
    },
    "language_info": {
      "name": "python"
    }
  },
  "nbformat": 4,
  "nbformat_minor": 0
}